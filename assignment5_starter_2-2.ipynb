{
  "cells": [
    {
      "cell_type": "code",
      "execution_count": 5,
      "metadata": {
        "id": "lqdQH3Gi50JP"
      },
      "outputs": [],
      "source": [
        "import numpy as np\n",
        "import pandas as pd"
      ]
    },
    {
      "cell_type": "code",
      "source": [
        "class KNN:\n",
        "    def __init__(self, k=3, distance_metric='euclidean'):\n",
        "        self.k = k\n",
        "        self.distance_metric = distance_metric\n",
        "\n",
        "    def fit(self, X, y):\n",
        "        self.X_train = X\n",
        "        self.y_train = y\n",
        "\n",
        "    def compute_distance(self, X1, X2):\n",
        "        if self.distance_metric == 'euclidean':\n",
        "            return np.linalg.norm(X2 - X1, axis=1)\n",
        "        elif self.distance_metric == 'manhattan':\n",
        "            return np.sum(np.abs(X2 - X1), axis=1)\n",
        "\n",
        "        else:\n",
        "          raise ValueError(\"cant find distance metric\")\n",
        "\n",
        "    def predict(self, X):\n",
        "        return np.apply_along_axis(self.pred, 1, X.values)\n",
        "\n",
        "    def pred(self, x):\n",
        "        distances = self.compute_distance(x, self.X_train.values)\n",
        "        k_indices = np.argpartition(distances, self.k)[:self.k]\n",
        "        k_nearest_labels = self.y_train.iloc[k_indices]\n",
        "        return np.mean(k_nearest_labels)\n"
      ],
      "metadata": {
        "id": "wVauprZs9a22"
      },
      "execution_count": 6,
      "outputs": []
    },
    {
      "cell_type": "code",
      "source": [
        "def preprocess_data(train_path, test_path):\n",
        "    train_data = pd.read_csv(train_path)\n",
        "    test_data = pd.read_csv(test_path)\n",
        "\n",
        "    combined_data = pd.concat([train_data, test_data], axis=0, ignore_index=True)\n",
        "\n",
        "    combined_data = pd.get_dummies(combined_data, columns=['Geography', 'Gender'], drop_first=True)\n",
        "\n",
        "    features = ['CreditScore', 'Age', 'Tenure', 'Balance', 'NumOfProducts', 'HasCrCard', 'IsActiveMember', 'EstimatedSalary'] + \\\n",
        "               [col for col in combined_data.columns if col.startswith('Geography_') or col.startswith('Gender_')]\n",
        "\n",
        "    combined_data[features] = (combined_data[features] - combined_data[features].mean()) / combined_data[features].std()\n",
        "\n",
        "    X_train = combined_data.loc[:len(train_data)-1, features]\n",
        "    y_train = train_data['Exited']\n",
        "    X_test = combined_data.loc[len(train_data):, features]\n",
        "\n",
        "    return X_train, y_train, X_test\n",
        "\n"
      ],
      "metadata": {
        "id": "Z8cFq9Qw9VmI"
      },
      "execution_count": 7,
      "outputs": []
    },
    {
      "cell_type": "code",
      "source": [
        "def cross_validate(X, y, knn, n_splits=5):\n",
        "    np.random.seed(42)\n",
        "    indices = np.random.permutation(len(X))\n",
        "    fold_size = len(X) // n_splits\n",
        "    scores = []\n",
        "\n",
        "    for i in range(n_splits):\n",
        "        val_indices = indices[i * fold_size:(i + 1) * fold_size]\n",
        "        train_indices = np.setdiff1d(indices, val_indices)\n",
        "\n",
        "        X_train, X_val = X.iloc[train_indices], X.iloc[val_indices]\n",
        "        y_train, y_val = y.iloc[train_indices], y.iloc[val_indices]\n",
        "\n",
        "        knn.fit(X_train, y_train)\n",
        "        y_est_prob = knn.predict(X_val)\n",
        "        score = auc_score(y_val, y_est_prob)\n",
        "        scores.append(score)\n",
        "\n",
        "    return scores\n",
        "\n",
        "def auc_score(y_true, y_est_prob):\n",
        "    positive_indices = np.where(y_true == 1)[0]\n",
        "    negative_indices = np.where(y_true == 0)[0]\n",
        "\n",
        "    if len(positive_indices) == 0 or len(negative_indices) == 0:\n",
        "        return 0.5\n",
        "\n",
        "    positive_predictions = y_est_prob[positive_indices]\n",
        "    negative_predictions = y_est_prob[negative_indices]\n",
        "\n",
        "    correct_order = np.sum(positive_predictions[:, None] > negative_predictions)\n",
        "    return correct_order / (len(positive_indices) * len(negative_indices))\n"
      ],
      "metadata": {
        "id": "BjfJ_hab9Q-B"
      },
      "execution_count": 8,
      "outputs": []
    },
    {
      "cell_type": "code",
      "source": [
        "# Load and preprocess data\n",
        "X, y, X_test = preprocess_data('train.csv', 'test.csv')\n",
        "\n",
        "# Create and evaluate model\n",
        "knn = KNN(k=5, distance_metric='euclidean')\n",
        "\n",
        "# Perform cross-validation\n",
        "cv_scores = cross_validate(X, y, knn)\n",
        "\n",
        "print(\"Cross-validation scores:\", cv_scores)\n",
        "print(\"Mean ROC AUC score:\", np.mean(cv_scores))\n",
        "\n",
        "# Hyperparameter tuning\n",
        "k_values = [3, 5, 7, 9,11, 13, 15]\n",
        "distance_metrics = ['euclidean', 'manhattan']\n",
        "best_score = 0\n",
        "best_params = {}\n",
        "\n",
        "for k in k_values:\n",
        "    for metric in distance_metrics:\n",
        "        knn = KNN(k=k, distance_metric=metric)\n",
        "        scores = cross_validate(X, y, knn)\n",
        "        mean_score = np.mean(scores)\n",
        "\n",
        "        if mean_score > best_score:\n",
        "            best_score = mean_score\n",
        "            best_params = {'k': k, 'distance_metric': metric}\n",
        "\n",
        "print(\"Best parameters:\", best_params)\n",
        "print(\"Best ROC AUC score:\", best_score)\n",
        "\n",
        "# Train on full dataset with optimal hyperparameters and make predictions on test set\n",
        "knn = KNN(**best_params)\n",
        "knn.fit(X, y)\n",
        "test_predictions = knn.predict(X_test)\n",
        "rounded_predictions = np.round(test_predictions, 2)\n",
        "pd.DataFrame({'id': pd.read_csv('test.csv')['id'], 'Exited': rounded_predictions.ravel()}).to_csv('submissions.csv', index=False)\n"
      ],
      "metadata": {
        "colab": {
          "base_uri": "https://localhost:8080/"
        },
        "id": "yNR9J16Z7vgz",
        "outputId": "2ce10f22-4618-4612-9d64-e90afe2366e7"
      },
      "execution_count": 9,
      "outputs": [
        {
          "output_type": "stream",
          "name": "stdout",
          "text": [
            "Cross-validation scores: [0.7827393099966703, 0.819753998373543, 0.8114446802742773, 0.7861315496098105, 0.8229182427660009]\n",
            "Mean ROC AUC score: 0.8045975562040603\n",
            "Best parameters: {'k': 15, 'distance_metric': 'manhattan'}\n",
            "Best ROC AUC score: 0.8762819122676909\n"
          ]
        }
      ]
    }
  ],
  "metadata": {
    "kernelspec": {
      "display_name": "cs506",
      "language": "python",
      "name": "python3"
    },
    "language_info": {
      "codemirror_mode": {
        "name": "ipython",
        "version": 3
      },
      "file_extension": ".py",
      "mimetype": "text/x-python",
      "name": "python",
      "nbconvert_exporter": "python",
      "pygments_lexer": "ipython3",
      "version": "3.8.8"
    },
    "colab": {
      "provenance": []
    }
  },
  "nbformat": 4,
  "nbformat_minor": 0
}